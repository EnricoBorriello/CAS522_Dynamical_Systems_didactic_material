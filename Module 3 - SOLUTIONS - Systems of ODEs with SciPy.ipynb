{
 "cells": [
  {
   "cell_type": "markdown",
   "metadata": {},
   "source": [
    "# M3: Assignment\n",
    "\n",
    "<br>**Enrico Borriello**</br>\n",
    "<br>School of Complex Adaptive System</br>\n",
    "<br>Arizona State University</br>\n",
    "<br></br>\n",
    "<br>**Latest update:** Sept 7, 2021</br>\n",
    "\n",
    "## Assignment\n",
    "\n",
    "Assume that the recovered individuals $R(t)$ of the SIR model can become susceptible again at a rate equal to $l R(t)$, where $l$ -'immunity loss rate' in what follows- is a new parameter in the model. Modify the equations of the SIR model accordingly. Modify the Jupiter notebook for this module, and use it to study the modified system for varying values of $l$ between zero and 1.\n",
    "\n",
    "**Plot 1:** Show the behavior of $S(t)$, $I(t)$, and $R(t)$ for a contact rate of 0.001, a recovery rate of 0.1, an immunity loss rate of 0.05, and time between zero and 100.\n",
    "\n",
    "**Question 1:** What are the equations of the modified model?\n",
    "\n",
    "**Question 2:** What can you say about the number of infected individuals $I(t)$ as you vary the immunity loss rate? (Keep contact rate = 0.001, and recovery rate = 0.1)\n",
    "\n",
    "**Question 3:** What is the greatest value of the immunity loss rate for which $I(t)$ is less than 10% of the entire population after time = 100? (Use contact rate = 0.001, and recovery rate = 0.1.)"
   ]
  },
  {
   "cell_type": "markdown",
   "metadata": {},
   "source": [
    "## Solution"
   ]
  },
  {
   "cell_type": "markdown",
   "metadata": {},
   "source": [
    "### Answer to Question 1"
   ]
  },
  {
   "cell_type": "markdown",
   "metadata": {},
   "source": [
    "<table>\n",
    "<tr>\n",
    "</tr>\n",
    "<tr>\n",
    "<td>\n",
    "\n",
    "$$ \\frac{dS}{dt} = -cSI +lR $$\n",
    "\n",
    "$$ \\frac{dI}{dt} = cSI -rI $$\n",
    "\n",
    "$$ \\frac{dR}{dt} = rI -lR $$\n",
    "\n",
    "</td>\n",
    "<td>\n",
    "    \n",
    "</td>\n",
    "<td>\n",
    "    \n",
    "</td>\n",
    "<td>\n",
    "\n",
    "<img src=\"files/mod_SIR_diagram.png\" width= \"300\">\n",
    "\n",
    "</td>\n",
    "</tr>\n",
    "</table>"
   ]
  },
  {
   "cell_type": "code",
   "execution_count": 1,
   "metadata": {},
   "outputs": [],
   "source": [
    "from scipy.integrate import odeint\n",
    "import numpy as np\n",
    "import matplotlib.pyplot as plt"
   ]
  },
  {
   "cell_type": "code",
   "execution_count": 2,
   "metadata": {},
   "outputs": [],
   "source": [
    "# parameters\n",
    "contact_rate = 0.001\n",
    "recovery_rate = 0.1\n",
    "immunity_loss_rate = 0.05"
   ]
  },
  {
   "cell_type": "code",
   "execution_count": 3,
   "metadata": {},
   "outputs": [],
   "source": [
    "# initial conditions\n",
    "# total population size = 1000\n",
    "S0 = 999\n",
    "I0 = 1\n",
    "R0 = 0\n",
    "x0 = [S0,I0,R0]"
   ]
  },
  {
   "cell_type": "code",
   "execution_count": 4,
   "metadata": {},
   "outputs": [],
   "source": [
    "# ODEs\n",
    "def odes(x,t):\n",
    "    S = x[0]\n",
    "    I = x[1]\n",
    "    R = x[2]\n",
    "    dSdt = -contact_rate*I*S + immunity_loss_rate*R\n",
    "    dIdt = contact_rate*I*S -recovery_rate*I\n",
    "    dRdt = recovery_rate*I - immunity_loss_rate*R\n",
    "    return [dSdt,dIdt,dRdt]"
   ]
  },
  {
   "cell_type": "code",
   "execution_count": 5,
   "metadata": {},
   "outputs": [],
   "source": [
    "t = np.linspace(0,100,1000)\n",
    "x = odeint(odes,x0,t)\n",
    "\n",
    "S = x[:,0]\n",
    "I = x[:,1]\n",
    "R = x[:,2]"
   ]
  },
  {
   "cell_type": "markdown",
   "metadata": {},
   "source": [
    "### Plot 1"
   ]
  },
  {
   "cell_type": "code",
   "execution_count": 6,
   "metadata": {},
   "outputs": [
    {
     "data": {
      "image/png": "[encoded data removed]",
      "text/plain": [
       "<Figure size 432x288 with 1 Axes>"
      ]
     },
     "metadata": {
      "needs_background": "light"
     },
     "output_type": "display_data"
    }
   ],
   "source": [
    "plt.plot(t,S,label='S')\n",
    "plt.plot(t,I,label='I')\n",
    "plt.plot(t,R,label='R')\n",
    "plt.legend()\n",
    "plt.xlabel('time')\n",
    "#plt.savefig('SIR_solution.pdf')\n",
    "plt.show()"
   ]
  },
  {
   "cell_type": "markdown",
   "metadata": {},
   "source": [
    "### Answer to Question 2"
   ]
  },
  {
   "cell_type": "markdown",
   "metadata": {},
   "source": [
    "A viable way to answer this question consists in running our code for a varying immunity loss rate within a realistic range of values. It is a perfectly value apporach, and provides the right answer.\n",
    "\n",
    "\n",
    "But there's also an alternative approach that -neglecting the transient- directly provides the values of $S$, $I$, and $R$ at equilibrium. In fact, once $S(t)$, $I(t)$, and $R(t)$ stop changing (i.e. their 'rate of change' is zero) our dynamical equations just become\n",
    "\n",
    "$$ -cSI + lR = 0 $$\n",
    "\n",
    "$$ cSI -rI = 0 $$\n",
    "\n",
    "$$ rI -lR = 0 $$\n",
    "\n",
    "This means $cSI=rI=lR$, i.e. the flux of individuals from one compartment to another is constant, and in balance. As many people get infected as they recover, as many people recover as they lose their immunity, and as many people lose their immunity as they get infected.\n",
    "\n",
    "These (now algebraic) equations can be solved easily remembering that the total population $N=S+I+R$ is constant:\n",
    "\n",
    "$$ S = \\frac{r}{c} \n",
    "\\qquad , \\qquad\n",
    "I = \\frac{N-r/c}{1+r/l} \n",
    "\\qquad , \\qquad\n",
    "R = \\frac{N-r/c}{1+l/r}\n",
    "$$\n",
    "\n",
    "(Notice that these limit values don't depend on the initial values. Only the transient dynamics does.)"
   ]
  },
  {
   "cell_type": "code",
   "execution_count": 7,
   "metadata": {},
   "outputs": [],
   "source": [
    "def S_lim(N,c,r,l):\n",
    "    return r/c\n",
    "\n",
    "def I_lim(N,c,r,l):\n",
    "    return (N-r/c)/(1+r/l)\n",
    "\n",
    "def R_lim(N,c,r,l):\n",
    "    return (N-r/c)/(1+l/r)"
   ]
  },
  {
   "cell_type": "markdown",
   "metadata": {},
   "source": [
    "We can compare these values with our numeric results:"
   ]
  },
  {
   "cell_type": "code",
   "execution_count": 8,
   "metadata": {},
   "outputs": [
    {
     "name": "stdout",
     "output_type": "stream",
     "text": [
      "compartment: analytic vs. numeric\n",
      "S_lim: 100.0 vs. 100.00002404300069\n",
      "I_lim: 300.0 vs. 299.9999334909527\n",
      "R_lim: 600.0 vs. 600.0000424660474\n"
     ]
    }
   ],
   "source": [
    "N = 1000\n",
    "c = 0.001\n",
    "r = 0.1\n",
    "l = 0.05\n",
    "\n",
    "print('compartment:','analytic','vs.','numeric')\n",
    "print('S_lim:',S_lim(N,c,r,l),'vs.',S[-1])\n",
    "print('I_lim:',I_lim(N,c,r,l),'vs.',I[-1])\n",
    "print('R_lim:',R_lim(N,c,r,l),'vs.',R[-1])"
   ]
  },
  {
   "cell_type": "markdown",
   "metadata": {},
   "source": [
    "We can plot these limit values for fixed values of $c$ and $r$, and varying $l$:"
   ]
  },
  {
   "cell_type": "code",
   "execution_count": 9,
   "metadata": {},
   "outputs": [],
   "source": [
    "# Here's some code for sampling on a logarithmic scale.\n",
    "# It's not strictly necessary, but it increases the readibility of our chart in this case. \n",
    "log_l_range = np.linspace(-2,1,100)\n",
    "l_range = np.power(10,log_l_range)"
   ]
  },
  {
   "cell_type": "code",
   "execution_count": 10,
   "metadata": {},
   "outputs": [],
   "source": [
    "N = 1000\n",
    "c = 0.001\n",
    "r = 0.1\n",
    "\n",
    "S_lim_values = [S_lim(N,c,r,l) for l in l_range]\n",
    "I_lim_values = [I_lim(N,c,r,l) for l in l_range]\n",
    "R_lim_values = [R_lim(N,c,r,l) for l in l_range]"
   ]
  },
  {
   "cell_type": "code",
   "execution_count": 11,
   "metadata": {},
   "outputs": [
    {
     "data": {
      "image/png": "[encoded data removed]",
      "text/plain": [
       "<Figure size 432x288 with 1 Axes>"
      ]
     },
     "metadata": {
      "needs_background": "light"
     },
     "output_type": "display_data"
    }
   ],
   "source": [
    "plt.plot(l_range,S_lim_values,label='S_lim')\n",
    "plt.plot(l_range,I_lim_values,label='I_lim')\n",
    "plt.plot(l_range,R_lim_values,label='R_lim')\n",
    "plt.legend()\n",
    "plt.xlabel('immunity loss rate, l',size=12)\n",
    "plt.ylabel('limit values',size=12)\n",
    "plt.xscale('log') # plot on a log-linear scale for better readability, but not strictly necessary\n",
    "plt.ylim(0,1000)\n",
    "plt.show()"
   ]
  },
  {
   "cell_type": "markdown",
   "metadata": {},
   "source": [
    "$S_{\\textrm{lim}}$ does not depend on $l$. The remaining $N-S$ part of the population is split between $I_{\\textrm{lim}}$ and $R_{\\textrm{lim}}$, with fractions determined by $l$. Higher values of $l$ correspond (as expected) to higher values of $I_{\\textrm{lim}}$. \n",
    "\n",
    "Notice that, in the limit for $l\\rightarrow 0$, we recover the initial SIR model. In the opposite limit -when $l$ dominates over the other two rates- the system behaves like the $R$ compartment was absent, i.e. a steady flux of individuals between $S$ and $I$."
   ]
  },
  {
   "cell_type": "markdown",
   "metadata": {},
   "source": [
    "### Answer to Question 3\n",
    "Againg, we could answer this question sampling $l$ values. Alternatively, we can use our limit expression for $I$, and set $I_{\\textrm{lim}}<N/10$. Therefore,\n",
    "\n",
    "$$ l < \\frac{r}{9-\\frac{10r}{Nc}} $$"
   ]
  },
  {
   "cell_type": "code",
   "execution_count": 12,
   "metadata": {},
   "outputs": [
    {
     "name": "stdout",
     "output_type": "stream",
     "text": [
      "l_max =  0.0125\n"
     ]
    }
   ],
   "source": [
    "l_max = r/(9-10*r/N/c)\n",
    "print('l_max = ', l_max)"
   ]
  },
  {
   "cell_type": "markdown",
   "metadata": {},
   "source": [
    "We can double-check this result by plotting the actual dynamics corresponsing to this value of $l$:"
   ]
  },
  {
   "cell_type": "code",
   "execution_count": 13,
   "metadata": {},
   "outputs": [
    {
     "data": {
      "image/png": "[encoded data removed]",
      "text/plain": [
       "<Figure size 432x288 with 1 Axes>"
      ]
     },
     "metadata": {
      "needs_background": "light"
     },
     "output_type": "display_data"
    }
   ],
   "source": [
    "c = 0.001; r = 0.1; l = l_max\n",
    "S0 = 999; I0 = 1; R0 = 0\n",
    "x0 = [S0,I0,R0]\n",
    "\n",
    "def odes(x,t):\n",
    "    S = x[0]\n",
    "    I = x[1]\n",
    "    R = x[2]\n",
    "    dSdt = -c*I*S + l*R\n",
    "    dIdt = c*I*S -r*I\n",
    "    dRdt = r*I - l*R\n",
    "    return [dSdt,dIdt,dRdt]\n",
    "\n",
    "t = np.linspace(0,100,1000)\n",
    "x = odeint(odes,x0,t)\n",
    "\n",
    "S = x[:,0]; I = x[:,1]; R = x[:,2]\n",
    "\n",
    "plt.plot(t,S,label='S')\n",
    "plt.plot(t,I,label='I')\n",
    "plt.plot(t,R,label='R')\n",
    "plt.legend()\n",
    "plt.xlabel('time')\n",
    "plt.show()"
   ]
  }
 ],
 "metadata": {
  "kernelspec": {
   "display_name": "Python 3",
   "language": "python",
   "name": "python3"
  },
  "language_info": {
   "codemirror_mode": {
    "name": "ipython",
    "version": 3
   },
   "file_extension": ".py",
   "mimetype": "text/x-python",
   "name": "python",
   "nbconvert_exporter": "python",
   "pygments_lexer": "ipython3",
   "version": "3.9.0"
  }
 },
 "nbformat": 4,
 "nbformat_minor": 5
}
