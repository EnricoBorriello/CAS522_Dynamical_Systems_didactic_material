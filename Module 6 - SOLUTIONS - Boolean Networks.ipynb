{
 "cells": [
  {
   "cell_type": "markdown",
   "id": "c6aca02f",
   "metadata": {},
   "source": [
    "# MODULE6: Boolean Networks\n",
    "\n",
    "Enrico Borriello, CAS 522 Dynamical Systems, ASU Fall 2021\n",
    "\n",
    "Latest update: Sept 29, 2021"
   ]
  },
  {
   "cell_type": "markdown",
   "id": "4a1a9821",
   "metadata": {},
   "source": [
    "## Assignment\n",
    "Consider the dynamics of the following Boolean network:"
   ]
  },
  {
   "cell_type": "markdown",
   "id": "e8350144",
   "metadata": {},
   "source": [
    "<img src=\"figures/M6_fig1.png\" width= \"400\">"
   ]
  },
  {
   "cell_type": "markdown",
   "id": "998d2407",
   "metadata": {},
   "source": [
    "Determine the global dynamics of the network by finding all cycles and fix-point attractors. Determine the sizes of all basins of attraction.\n",
    "\n",
    "Perform the analysis without using any numerical code. (You can still double-check your results numerically if you like.)\n",
    "\n",
    "## Solution\n",
    "\n",
    "This assignment didn't require any coding. Nonetheless, it gives us a change to review some useful functions and techniques used in working with Boolean variables."
   ]
  },
  {
   "cell_type": "code",
   "execution_count": 1,
   "id": "7058e647",
   "metadata": {},
   "outputs": [],
   "source": [
    "# number of nodes\n",
    "n = 4"
   ]
  },
  {
   "cell_type": "markdown",
   "id": "2584e77d",
   "metadata": {},
   "source": [
    "Let's first define our updating function:"
   ]
  },
  {
   "cell_type": "code",
   "execution_count": 2,
   "id": "6de631d0",
   "metadata": {},
   "outputs": [],
   "source": [
    "def NETupdate(x):\n",
    "    # remember that Python's numbering starts from zero, not 1\n",
    "\n",
    "    x0 = x[1] and x[3]\n",
    "    x1 = x[0] or x[2]\n",
    "    x2 = x[1] and x[3]\n",
    "    x3 = x[0] or x[2]\n",
    "    \n",
    "    return [x0,x1,x2,x3]"
   ]
  },
  {
   "cell_type": "markdown",
   "id": "e42c1000",
   "metadata": {},
   "source": [
    "The following function converts a number in base-10 to the binary list of its base-2 digits. If the base-2 number has less than $n$ digits, zeros are added at the beginning of the list so that all lists have length $n$."
   ]
  },
  {
   "cell_type": "code",
   "execution_count": 3,
   "id": "71df67db",
   "metadata": {},
   "outputs": [],
   "source": [
    "def convert_to_bin_list(x,n):\n",
    "    bx = list(map(int, list((bin(x)[2:]))))\n",
    "    if len(bx) < n:\n",
    "        for i in range(4-len(bx)):\n",
    "            bx = [0] + bx\n",
    "    return bx"
   ]
  },
  {
   "cell_type": "markdown",
   "id": "b6b78df0",
   "metadata": {},
   "source": [
    "This is a good reason to check how these new functions, **bin( )** and **map( )**, work:\n",
    "\n",
    "https://docs.python.org/3/library/functions.html\n",
    "\n",
    "The states of our system are all the lists generated this way with input ranging from 0 to $2^n-1$."
   ]
  },
  {
   "cell_type": "code",
   "execution_count": 4,
   "id": "e0266664",
   "metadata": {},
   "outputs": [
    {
     "name": "stdout",
     "output_type": "stream",
     "text": [
      "[0, 0, 0, 0] --> [0, 0, 0, 0]\n",
      "[0, 0, 0, 1] --> [0, 0, 0, 0]\n",
      "[0, 0, 1, 0] --> [0, 1, 0, 1]\n",
      "[0, 0, 1, 1] --> [0, 1, 0, 1]\n",
      "[0, 1, 0, 0] --> [0, 0, 0, 0]\n",
      "[0, 1, 0, 1] --> [1, 0, 1, 0]\n",
      "[0, 1, 1, 0] --> [0, 1, 0, 1]\n",
      "[0, 1, 1, 1] --> [1, 1, 1, 1]\n",
      "[1, 0, 0, 0] --> [0, 1, 0, 1]\n",
      "[1, 0, 0, 1] --> [0, 1, 0, 1]\n",
      "[1, 0, 1, 0] --> [0, 1, 0, 1]\n",
      "[1, 0, 1, 1] --> [0, 1, 0, 1]\n",
      "[1, 1, 0, 0] --> [0, 1, 0, 1]\n",
      "[1, 1, 0, 1] --> [1, 1, 1, 1]\n",
      "[1, 1, 1, 0] --> [0, 1, 0, 1]\n",
      "[1, 1, 1, 1] --> [1, 1, 1, 1]\n"
     ]
    }
   ],
   "source": [
    "for i in range(2**n):\n",
    "    x = convert_to_bin_list(i,n)\n",
    "    print(x,'-->',NETupdate(x))"
   ]
  },
  {
   "cell_type": "markdown",
   "id": "fa9bac17",
   "metadata": {},
   "source": [
    "You can now use this transition table to check your results."
   ]
  }
 ],
 "metadata": {
  "kernelspec": {
   "display_name": "Python 3",
   "language": "python",
   "name": "python3"
  },
  "language_info": {
   "codemirror_mode": {
    "name": "ipython",
    "version": 3
   },
   "file_extension": ".py",
   "mimetype": "text/x-python",
   "name": "python",
   "nbconvert_exporter": "python",
   "pygments_lexer": "ipython3",
   "version": "3.9.5"
  }
 },
 "nbformat": 4,
 "nbformat_minor": 5
}
