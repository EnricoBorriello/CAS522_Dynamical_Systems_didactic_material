{
 "cells": [
  {
   "cell_type": "markdown",
   "id": "e5f96b9e",
   "metadata": {},
   "source": [
    "# Systems of ODEs with SciPy\n",
    "<br>**Enrico Borriello**</br>\n",
    "<br>School of Complex Adaptive System</br>\n",
    "<br>Arizona State University</br>\n",
    "<br></br>\n",
    "<br>**Latest update:** Sept 7, 2021</br>"
   ]
  },
  {
   "cell_type": "markdown",
   "id": "0b143265",
   "metadata": {},
   "source": [
    "In this notebook we will show how to use the python library SciPy to solve a system of 1st order, ordinary differential equations (ODEs) in its normal form, namely a system of equations in the form\n",
    "\n",
    "$ \\frac{dx_1}{dt}=f_1(x_1,x_2,\\dots,x_n,t) $\n",
    "\n",
    "$ \\frac{dx_2}{dt}=f_2(x_1,x_2,\\dots,x_n,t) $\n",
    "\n",
    "$ \\dots $\n",
    "\n",
    "$ \\frac{dx_n}{dt}=f_n(x_1,x_2,\\dots,x_n,t) $\n",
    "\n",
    "We will use the SciPy **integrate** module and the SIR model for the spread of a contagious disease as our example."
   ]
  },
  {
   "cell_type": "markdown",
   "id": "a3da565f",
   "metadata": {},
   "source": [
    "## The SIR model for the spread of a contagious disease"
   ]
  },
  {
   "cell_type": "markdown",
   "id": "66f67a9f",
   "metadata": {},
   "source": [
    "The SIR model is the most famous, and a very simplified model for the spread of a contagious desease. The model takes its name from the three \"compartments\" it uses to separate the members of a fixed-size population. Its variables are the sizes of these subgroups:\n",
    "\n",
    "$S(t) = $ number of **susceptibe** individuals;\n",
    "\n",
    "$I(t) = $ number of **infected** individuals;\n",
    "\n",
    "$R(t) = $ number of **recovered** individuals.\n",
    "\n",
    "The model is based on very simple assumptions:\n",
    "\n",
    "1) The rate at which susceptibe individuals get infected is proportional to both the number of susceptible individuals, $S(t)$, and the number of infected individual, $I(t)$. The speed of the processes is determined by an empirical parameter $c$, called contact (or transmission) rate.\n",
    "\n",
    "2) The rate at which infected individuals recover is simply proportional to this number of $I(t)$. The speed of the processes is determined by a second empirical parameter, the recovery rate $r$.\n",
    "\n",
    "The process can be described by the following diagram:"
   ]
  },
  {
   "cell_type": "markdown",
   "id": "3e6ff1d7",
   "metadata": {},
   "source": [
    "<img src=\"figures/M3_fig1.png\" width= \"400\">"
   ]
  },
  {
   "cell_type": "markdown",
   "id": "4cdd5490",
   "metadata": {},
   "source": [
    "The model assumes a one-way dynamics with no feedback. Over time the entire population becomes infected, and eventually recovers. \n",
    "\n",
    "These assumptions translate into this system of ODEs:\n",
    "\n",
    "$\\frac{dS}{dt} = -cSI $\n",
    "\n",
    "$\\frac{dI}{dt} = cSI -rI $\n",
    "\n",
    "$\\frac{dR}{dt} = rI $\n",
    "\n",
    "That we want to solve for given initial values of the three variables, $S(0)$, $I(0)$, and $R(0)$."
   ]
  },
  {
   "cell_type": "markdown",
   "id": "956267ed",
   "metadata": {},
   "source": [
    "## Code"
   ]
  },
  {
   "cell_type": "code",
   "execution_count": 6,
   "id": "2a618991",
   "metadata": {},
   "outputs": [],
   "source": [
    "from scipy.integrate import odeint\n",
    "import numpy as np\n",
    "import matplotlib.pyplot as plt"
   ]
  },
  {
   "cell_type": "code",
   "execution_count": 7,
   "id": "cdd8965d",
   "metadata": {},
   "outputs": [],
   "source": [
    "# parameters\n",
    "contact_rate = 0.003\n",
    "recovery_rate = 0.3"
   ]
  },
  {
   "cell_type": "code",
   "execution_count": 8,
   "id": "b175e78e",
   "metadata": {},
   "outputs": [],
   "source": [
    "# initial conditions\n",
    "# total population size = 1000\n",
    "S0 = 999\n",
    "I0 = 1\n",
    "R0 = 0\n",
    "x0 = [S0,I0,R0]"
   ]
  },
  {
   "cell_type": "code",
   "execution_count": 9,
   "id": "5c5b4b18",
   "metadata": {},
   "outputs": [],
   "source": [
    "# ODEs\n",
    "def odes(x,t):\n",
    "    S = x[0]\n",
    "    I = x[1]\n",
    "    R = x[2]\n",
    "    dSdt = -contact_rate*I*S\n",
    "    dIdt = contact_rate*I*S -recovery_rate*I\n",
    "    dRdt = recovery_rate*I\n",
    "    return [dSdt,dIdt,dRdt]"
   ]
  },
  {
   "cell_type": "code",
   "execution_count": 10,
   "id": "f119a8dd",
   "metadata": {},
   "outputs": [],
   "source": [
    "t = np.linspace(0,30,1000)"
   ]
  },
  {
   "cell_type": "code",
   "execution_count": 11,
   "id": "59c92a0a",
   "metadata": {},
   "outputs": [],
   "source": [
    "x = odeint(odes,x0,t)"
   ]
  },
  {
   "cell_type": "code",
   "execution_count": 12,
   "id": "58f9258b",
   "metadata": {},
   "outputs": [],
   "source": [
    "S = x[:,0]\n",
    "I = x[:,1]\n",
    "R = x[:,2]"
   ]
  },
  {
   "cell_type": "code",
   "execution_count": 16,
   "id": "b6331ae9",
   "metadata": {},
   "outputs": [
    {
     "data": {
      "image/png": "[encoded data removed]",
      "text/plain": [
       "<Figure size 432x288 with 1 Axes>"
      ]
     },
     "metadata": {
      "needs_background": "light"
     },
     "output_type": "display_data"
    }
   ],
   "source": [
    "plt.plot(t,S,label='S')\n",
    "plt.plot(t,I,label='I')\n",
    "plt.plot(t,R,label='R')\n",
    "plt.legend()\n",
    "plt.xlabel('time')\n",
    "#plt.savefig('SIR_solution.pdf')\n",
    "plt.show()"
   ]
  }
 ],
 "metadata": {
  "kernelspec": {
   "display_name": "Python 3",
   "language": "python",
   "name": "python3"
  },
  "language_info": {
   "codemirror_mode": {
    "name": "ipython",
    "version": 3
   },
   "file_extension": ".py",
   "mimetype": "text/x-python",
   "name": "python",
   "nbconvert_exporter": "python",
   "pygments_lexer": "ipython3",
   "version": "3.9.5"
  }
 },
 "nbformat": 4,
 "nbformat_minor": 5
}
