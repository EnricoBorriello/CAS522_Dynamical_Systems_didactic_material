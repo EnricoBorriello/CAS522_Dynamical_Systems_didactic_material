{
 "cells": [
  {
   "cell_type": "code",
   "execution_count": null,
   "id": "e19ad7f1",
   "metadata": {},
   "outputs": [],
   "source": [
    "import sys\n",
    "!{sys.executable} -m pip install pyvis\n",
    "!{sys.executable} -m pip install sympy"
   ]
  },
  {
   "cell_type": "markdown",
   "id": "485740c3",
   "metadata": {},
   "source": [
    "## Draw a Markov Chain with 'pyvis'"
   ]
  },
  {
   "cell_type": "code",
   "execution_count": null,
   "id": "495e485e",
   "metadata": {},
   "outputs": [],
   "source": [
    "from pyvis.network import Network"
   ]
  },
  {
   "cell_type": "code",
   "execution_count": null,
   "id": "0c3f2e12",
   "metadata": {
    "scrolled": true
   },
   "outputs": [],
   "source": [
    "g = Network(notebook = True,directed=True)\n",
    "\n",
    "g.add_node(0,size=10,color='black')\n",
    "g.add_node(1,size=10,color='black')\n",
    "g.add_node(2,size=10,color='black')\n",
    "g.add_node(3,size=10,color='black')\n",
    "\n",
    "g.add_edge(0, 0,label='1')\n",
    "g.add_edge(0, 1,label='1/3')\n",
    "g.add_edge(1, 2,label='2/3')\n",
    "g.add_edge(2, 1,label='1/3')\n",
    "g.add_edge(2, 3,label='2/3')\n",
    "g.add_edge(3, 3,label='1')\n",
    "\n",
    "g.set_edge_smooth('dynamic')\n",
    "\n",
    "g.show(\"chain.html\")"
   ]
  },
  {
   "cell_type": "markdown",
   "id": "cda6118f",
   "metadata": {},
   "source": [
    "## Solve an Absorbing Markov Chain with 'SymPy'"
   ]
  },
  {
   "cell_type": "code",
   "execution_count": null,
   "id": "d5e90d62",
   "metadata": {},
   "outputs": [],
   "source": [
    "import numpy as np\n",
    "from sympy import *"
   ]
  },
  {
   "cell_type": "code",
   "execution_count": null,
   "id": "ad088e10",
   "metadata": {},
   "outputs": [],
   "source": [
    "P = np.array([\n",
    "    [1,0,0,0],\n",
    "    [1/3,0,2/3,0],\n",
    "    [0,1/3,0,2/3],\n",
    "    [0,0,0,1]\n",
    "])"
   ]
  },
  {
   "cell_type": "code",
   "execution_count": null,
   "id": "69168d94",
   "metadata": {},
   "outputs": [],
   "source": [
    "a = symbols('a:4')\n",
    "solution = solve(np.dot(P,A)-A, (a[1],a[2]))"
   ]
  },
  {
   "cell_type": "code",
   "execution_count": null,
   "id": "045e6da6",
   "metadata": {},
   "outputs": [],
   "source": [
    "solution[a[1]].subs({a[0]:0,a[3]:1})"
   ]
  },
  {
   "cell_type": "code",
   "execution_count": null,
   "id": "1c6dc1a2",
   "metadata": {},
   "outputs": [],
   "source": [
    "solution[a[2]].subs({a[0]:0,a[3]:1})"
   ]
  },
  {
   "cell_type": "markdown",
   "id": "fbcf98b1",
   "metadata": {},
   "source": [
    "## Random Chain"
   ]
  },
  {
   "cell_type": "code",
   "execution_count": 9,
   "id": "1afe6967",
   "metadata": {},
   "outputs": [],
   "source": [
    "import numpy as np\n",
    "from pyvis.network import Network\n",
    "from sympy import *\n",
    "import random"
   ]
  },
  {
   "cell_type": "code",
   "execution_count": 82,
   "id": "a4583ec7",
   "metadata": {},
   "outputs": [],
   "source": [
    "n = 14\n",
    "P = np.random.uniform(size=(n-2, n))\n",
    "P = (P>.25)*P\n",
    "P /= P.sum(axis=1, keepdims=1)"
   ]
  },
  {
   "cell_type": "code",
   "execution_count": 83,
   "id": "f2dc7e36",
   "metadata": {},
   "outputs": [],
   "source": [
    "abs_state_1 = np.append([1],np.zeros(n-1))\n",
    "abs_state_n = np.append(np.zeros(n-1),[1])"
   ]
  },
  {
   "cell_type": "code",
   "execution_count": 84,
   "id": "8d7429b7",
   "metadata": {},
   "outputs": [],
   "source": [
    "P = np.vstack([abs_state_1,P,abs_state_n])"
   ]
  },
  {
   "cell_type": "code",
   "execution_count": 85,
   "id": "5bf45575",
   "metadata": {},
   "outputs": [
    {
     "data": {
      "text/html": [
       "\n",
       "        <iframe\n",
       "            width=\"500px\"\n",
       "            height=\"500px\"\n",
       "            src=\"chain.html\"\n",
       "            frameborder=\"0\"\n",
       "            allowfullscreen\n",
       "        ></iframe>\n",
       "        "
      ],
      "text/plain": [
       "<IPython.lib.display.IFrame at 0x160a41e80>"
      ]
     },
     "execution_count": 85,
     "metadata": {},
     "output_type": "execute_result"
    }
   ],
   "source": [
    "g = Network(notebook = True,directed=True)\n",
    "\n",
    "for i in range(len(P)):\n",
    "    if np.count_nonzero(P[i])==1:\n",
    "        g.add_node(i,size=5,color='orange')\n",
    "    else:\n",
    "        g.add_node(i,size=5,color='black')\n",
    "\n",
    "for i in range(len(P)):\n",
    "    for j in range(len(P[i])):\n",
    "        if P[i][j]!=0:\n",
    "            g.add_edge(i, j,\n",
    "                label=str(int(round(100*P[i][j])))+'%')\n",
    "# deactivate 'dynamic' for n > 10\n",
    "g.set_edge_smooth('dynamic')\n",
    "g.show(\"chain.html\")"
   ]
  },
  {
   "cell_type": "code",
   "execution_count": 64,
   "id": "809eddc3",
   "metadata": {},
   "outputs": [],
   "source": [
    "a = symbols('a:'+str(n))\n",
    "solution = solve(np.dot(P,a)-a, [a[i] for i in range(1,n-1)])"
   ]
  },
  {
   "cell_type": "code",
   "execution_count": 65,
   "id": "7495d60b",
   "metadata": {},
   "outputs": [
    {
     "name": "stdout",
     "output_type": "stream",
     "text": [
      "1) 48.7%\n",
      "2) 55.7%\n",
      "3) 47.7%\n",
      "4) 52.4%\n",
      "5) 50.3%\n",
      "6) 52.4%\n",
      "7) 52.4%\n",
      "8) 50.9%\n",
      "9) 50.2%\n",
      "10) 50.1%\n",
      "11) 47.5%\n",
      "12) 47.8%\n",
      "13) 50.0%\n",
      "14) 48.2%\n",
      "15) 48.0%\n",
      "16) 50.2%\n",
      "17) 48.5%\n",
      "18) 53.1%\n"
     ]
    }
   ],
   "source": [
    "for i in range(1,n-1):\n",
    "    print(str(i)+')', str(100*round(solution[a[i]].subs({a[0]:0,a[n-1]:1}),3))+'%' )"
   ]
  },
  {
   "cell_type": "code",
   "execution_count": null,
   "id": "d311e4e2",
   "metadata": {},
   "outputs": [],
   "source": []
  }
 ],
 "metadata": {
  "kernelspec": {
   "display_name": "Python 3",
   "language": "python",
   "name": "python3"
  },
  "language_info": {
   "codemirror_mode": {
    "name": "ipython",
    "version": 3
   },
   "file_extension": ".py",
   "mimetype": "text/x-python",
   "name": "python",
   "nbconvert_exporter": "python",
   "pygments_lexer": "ipython3",
   "version": "3.9.5"
  }
 },
 "nbformat": 4,
 "nbformat_minor": 5
}
