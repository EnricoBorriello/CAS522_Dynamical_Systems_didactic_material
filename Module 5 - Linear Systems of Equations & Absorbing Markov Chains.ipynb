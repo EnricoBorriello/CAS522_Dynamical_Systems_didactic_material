{
 "cells": [
  {
   "cell_type": "markdown",
   "id": "d1bfe94c",
   "metadata": {},
   "source": [
    "# MODULE 5 - LINEAR SYSTEMS OF EQUATIONS & ABSORBING MARKOV CHAINS\n",
    "\n",
    "\n",
    "Enrico Borriello, CAS 522 Dynamical Systems, ASU Fall 2021\n",
    "\n",
    "Latest update: Sept 27, 2021"
   ]
  },
  {
   "cell_type": "code",
   "execution_count": 1,
   "id": "1d073dbe",
   "metadata": {},
   "outputs": [],
   "source": [
    "from pyvis.network import Network\n",
    "import numpy as np\n",
    "from sympy import *"
   ]
  },
  {
   "cell_type": "markdown",
   "id": "270af797",
   "metadata": {},
   "source": [
    "## Draw a Markov Chain with 'pyvis'"
   ]
  },
  {
   "cell_type": "code",
   "execution_count": 2,
   "id": "7e097cb5",
   "metadata": {
    "scrolled": true
   },
   "outputs": [
    {
     "data": {
      "text/html": [
       "\n",
       "        <iframe\n",
       "            width=\"500px\"\n",
       "            height=\"500px\"\n",
       "            src=\"chain.html\"\n",
       "            frameborder=\"0\"\n",
       "            allowfullscreen\n",
       "        ></iframe>\n",
       "        "
      ],
      "text/plain": [
       "<IPython.lib.display.IFrame at 0x157580ac0>"
      ]
     },
     "execution_count": 2,
     "metadata": {},
     "output_type": "execute_result"
    }
   ],
   "source": [
    "g = Network(notebook = True,directed=True)\n",
    "\n",
    "g.add_node(0,size=10,color='black')\n",
    "g.add_node(1,size=10,color='black')\n",
    "g.add_node(2,size=10,color='black')\n",
    "g.add_node(3,size=10,color='black')\n",
    "\n",
    "g.add_edge(0, 0,label='1')\n",
    "g.add_edge(0, 1,label='1/3')\n",
    "g.add_edge(1, 2,label='2/3')\n",
    "g.add_edge(2, 1,label='1/3')\n",
    "g.add_edge(2, 3,label='2/3')\n",
    "g.add_edge(3, 3,label='1')\n",
    "\n",
    "g.set_edge_smooth('dynamic')\n",
    "\n",
    "g.show(\"chain.html\")"
   ]
  },
  {
   "cell_type": "markdown",
   "id": "a15564ff",
   "metadata": {},
   "source": [
    "## Solve an Absorbing Markov Chain with 'SymPy'"
   ]
  },
  {
   "cell_type": "code",
   "execution_count": 3,
   "id": "732525df",
   "metadata": {},
   "outputs": [],
   "source": [
    "P = np.array([\n",
    "    [1,0,0,0],\n",
    "    [1/3,0,2/3,0],\n",
    "    [0,1/3,0,2/3],\n",
    "    [0,0,0,1]\n",
    "])"
   ]
  },
  {
   "cell_type": "code",
   "execution_count": 4,
   "id": "a2864912",
   "metadata": {},
   "outputs": [],
   "source": [
    "a = symbols('a:4')\n",
    "solution = solve(np.dot(P,a)-a, (a[1],a[2]))"
   ]
  },
  {
   "cell_type": "code",
   "execution_count": 5,
   "id": "90ce094e",
   "metadata": {},
   "outputs": [
    {
     "data": {
      "text/latex": [
       "$\\displaystyle 0.571428571428571$"
      ],
      "text/plain": [
       "0.571428571428571"
      ]
     },
     "execution_count": 5,
     "metadata": {},
     "output_type": "execute_result"
    }
   ],
   "source": [
    "solution[a[1]].subs({a[0]:0,a[3]:1})"
   ]
  },
  {
   "cell_type": "code",
   "execution_count": 6,
   "id": "0ee9abb9",
   "metadata": {},
   "outputs": [
    {
     "data": {
      "text/latex": [
       "$\\displaystyle 0.857142857142857$"
      ],
      "text/plain": [
       "0.857142857142857"
      ]
     },
     "execution_count": 6,
     "metadata": {},
     "output_type": "execute_result"
    }
   ],
   "source": [
    "solution[a[2]].subs({a[0]:0,a[3]:1})"
   ]
  }
 ],
 "metadata": {
  "kernelspec": {
   "display_name": "Python 3",
   "language": "python",
   "name": "python3"
  },
  "language_info": {
   "codemirror_mode": {
    "name": "ipython",
    "version": 3
   },
   "file_extension": ".py",
   "mimetype": "text/x-python",
   "name": "python",
   "nbconvert_exporter": "python",
   "pygments_lexer": "ipython3",
   "version": "3.9.5"
  }
 },
 "nbformat": 4,
 "nbformat_minor": 5
}
