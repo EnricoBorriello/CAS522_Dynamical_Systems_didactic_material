{
 "cells": [
  {
   "cell_type": "markdown",
   "id": "95776f60",
   "metadata": {},
   "source": [
    "# MODULE 5 - SOLUTION -  LINEAR SYSTEMS OF EQUATIONS & ABSORBING MARKOV CHAINS\n",
    "\n",
    "\n",
    "Enrico Borriello, CAS 522 Dynamical Systems, ASU Fall 2021\n",
    "\n",
    "Latest update: Sept 28, 2021"
   ]
  },
  {
   "cell_type": "markdown",
   "id": "5606e1c6",
   "metadata": {},
   "source": [
    "## Problem\n",
    "\n",
    "Consider the Gambler's Ruin problem studied in class, where a more skilled player 1 is twice as likely than player 2 to win a game. Player 1 starts with 1 dollar, while player 2 starts with 2 dollars. Each game gives the winner 1 dollar from the other, and the players play until one of them is bankrupt. We have seen that player 1 has a probability equal to 4/7 (approximately 57%) of winning.\n",
    "\n",
    "Modify the dynamics assuming that player 1 gets tired more quickly than player 2, and that this reduces their chances of winning the game. As before, player 1 is 200% more likely to win than player 2 during the first game, but only 150% more likely during the second game. The odds are even during the third game. During the fourth game, player 1 is only 50% as likely as player 2 to win. If the players get to play a fifth game, the stress on player 1 becomes unbearable. At this point player 1 just concedes their games.\n",
    "\n",
    "Can you redefine the states of this system in a way that makes a Markov chain approach still viable? What is the new probability that player 1 wins?"
   ]
  },
  {
   "cell_type": "markdown",
   "id": "b1fbfe9a",
   "metadata": {},
   "source": [
    "## Solution\n",
    "\n",
    "There is a great amount of freedom in defining the states of an absorbing Markov Chain. And, this can be exploited to point of turning path-dependent processes into Markov process after the states of the process are redefined. \n",
    "\n",
    "The Gambler's Ruin Problem presents a loop of two states, with P1 winning and then loosing an arbitrary number of times. In the modified version of this game, this loop can't last an arbitrarily long time. P1's performance degrades over time, to the point that P1 become unable to win within a *finite* number of rounds. This is a key observation, because it means that the time variable can be used to identify the states, while the total number of states still remain finite.\n",
    "\n",
    "This is the approach we're going adopting. Therefore, we distinguish the states of the system in terms of the number of dollars owed by P1 and the number of rounds that have been played. The viable states of the system then look as follows:"
   ]
  },
  {
   "cell_type": "markdown",
   "id": "d556b954",
   "metadata": {},
   "source": [
    "<img src=\"M5_fig1.png\" width= \"600\">"
   ]
  },
  {
   "cell_type": "markdown",
   "id": "5f0fe3a5",
   "metadata": {},
   "source": [
    "A couple of comments are in order: \n",
    "\n",
    "1) Using the time variable as a distinguishing feature can lead to a significant proliferation of the number of sates. Therefore, we will try to reduce their number the most we can. We can start by excluding games that begin with P1 owning 2 dollars, as that's not our initial condition. This simplification wasn't possible in the standard version of the problem, where time is not a distinguishing feature, and P1 owning 2 dollars *is* the state, regardless of when this happens.\n",
    "\n",
    "2) From a geometrical perspective, this construction unfolds the initial loop a finite number of times. The problem is now simple enough that we don't really need to use the formalism of Markov Chains. We could opt for the simpler approach of counting the now finite number of paths that lead to a win:\n",
    "\n",
    "W > W\n",
    "\n",
    "W > L > W > W\n",
    "\n",
    "The resulting probability is \n",
    "\n",
    "$$\n",
    "\\frac{2}{3}\\frac{3}{5} + \\frac{2}{3}\\frac{2}{5}\\frac{1}{2}\\frac{1}{3} = \\frac{4}{9} = 44.{\\bar 4}\\%\n",
    "$$\n",
    "\n",
    "Problems that can be approached this way won't always be this simple. But we can notice that the result can still be obtained by solving a linear system of equations, as this continues to hold regradless of the number of states. Therefore, let's see how we can solve this, and similar problems using the formalism studied in class.\n",
    "\n",
    "Before proceeding, let's notice that we can simplify the problem even further by collecting states together. This is possible because we're not asked to provide the probability that P1 wins after a specific number of rounds. As the probabilities of winning/losing at different times are additive quantities when calculating the total probability of winning/losing, we can *coarse-grain* their individual states: "
   ]
  },
  {
   "cell_type": "markdown",
   "id": "7fd20696",
   "metadata": {},
   "source": [
    "<img src=\"M5_fig2.png\" width= \"600\">"
   ]
  },
  {
   "cell_type": "markdown",
   "id": "202bf3f6",
   "metadata": {},
   "source": [
    "(Notice that we're including the state with P1 owning just 1 dollar after 4 rounds with the state corresponding to a loss, as the outcome of the game is -at that point- decided.)\n",
    "\n",
    "The system is now defined by just 6 states:"
   ]
  },
  {
   "cell_type": "markdown",
   "id": "4f8de365",
   "metadata": {},
   "source": [
    "<img src=\"M5_fig3.png\" width= \"600\">"
   ]
  },
  {
   "cell_type": "markdown",
   "id": "4a3dd690",
   "metadata": {},
   "source": [
    "State 1 is the initial state. State 0 is the absorbing state corresponding to a loss. State 5 is the absorbing state corresponding to a win. States 2, 3, and 4 are transient states.\n",
    "\n",
    "The transition probability matrix of this process is:"
   ]
  },
  {
   "cell_type": "code",
   "execution_count": 1,
   "id": "5e639036",
   "metadata": {},
   "outputs": [],
   "source": [
    "import numpy as np\n",
    "from sympy import *\n",
    "\n",
    "P = np.array([\n",
    "    [ 1  , 0 ,  0  ,  0  ,  0  , 0  ],\n",
    "    [1/3 , 0 , 2/3 ,  0  ,  0  , 0  ],\n",
    "    [ 0  , 0 ,  0  , 2/5 ,  0  , 3/5],\n",
    "    [1/2 , 0 ,  0  ,  0  , 1/2 ,  0 ],\n",
    "    [2/3 , 0 ,  0  ,  0  ,  0  , 1/3],\n",
    "    [ 0  , 0 ,  0  ,  0  ,  0  ,  1 ]\n",
    "])"
   ]
  },
  {
   "cell_type": "markdown",
   "id": "89dcdc5a",
   "metadata": {},
   "source": [
    "Our answer is then the $a_1$ unkown of the *absorbtion probability equations* with $a_0=0$ and $a_5=1$:"
   ]
  },
  {
   "cell_type": "code",
   "execution_count": 2,
   "id": "eade511c",
   "metadata": {},
   "outputs": [
    {
     "data": {
      "text/latex": [
       "$\\displaystyle 0.444444444444444$"
      ],
      "text/plain": [
       "0.444444444444444"
      ]
     },
     "execution_count": 2,
     "metadata": {},
     "output_type": "execute_result"
    }
   ],
   "source": [
    "a = symbols('a:6')\n",
    "solution = solve(np.dot(P,a)-a, (a[1],a[2],a[3],a[4]))\n",
    "solution[a[1]].subs({a[0]:0,a[5]:1})"
   ]
  },
  {
   "cell_type": "code",
   "execution_count": null,
   "id": "a8993972",
   "metadata": {},
   "outputs": [],
   "source": []
  }
 ],
 "metadata": {
  "kernelspec": {
   "display_name": "Python 3",
   "language": "python",
   "name": "python3"
  },
  "language_info": {
   "codemirror_mode": {
    "name": "ipython",
    "version": 3
   },
   "file_extension": ".py",
   "mimetype": "text/x-python",
   "name": "python",
   "nbconvert_exporter": "python",
   "pygments_lexer": "ipython3",
   "version": "3.9.5"
  }
 },
 "nbformat": 4,
 "nbformat_minor": 5
}
