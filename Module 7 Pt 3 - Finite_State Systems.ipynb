{
 "cells": [
  {
   "cell_type": "markdown",
   "metadata": {},
   "source": [
    "# Dynamical Systems Visualization Pt 3:\n",
    "# Finite-State Systems\n",
    "\n",
    "<br>**Enrico Borriello**</br>\n",
    "<br>School of Complex Adaptive System</br>\n",
    "<br>Arizona State University</br>"
   ]
  },
  {
   "cell_type": "markdown",
   "metadata": {},
   "source": [
    "In this notebook we want to show how to plot series of Boolean arrays, like the ones used to describe the dinamics of the *elementary cellular automata* we've studed in Module 6."
   ]
  },
  {
   "cell_type": "code",
   "execution_count": 1,
   "metadata": {},
   "outputs": [],
   "source": [
    "import numpy as np\n",
    "import matplotlib.pyplot as plt"
   ]
  },
  {
   "cell_type": "markdown",
   "metadata": {},
   "source": [
    "Regardless of the way our data have been generated, we'll assume they form a 2D array of zeros and 1s. We'll also assume the following formatting: Different rows correspond to a different times; different entries within the same row correspond to the different dynamic variables.\n",
    "\n",
    "The order of the columns can either be relevant or arbitrary. For example, in the case of ECAs, the local nature of the interaction makes it convenient to sort the variables in a way that adjacent columns correspond to adjacent (and therefore interacting) grigs of the system. In the case of a gene regulatory networks, the interactions are non-local, and the variables can be labeled as we prefer.\n",
    "\n",
    "In the following example we are using a random dataset, with $n=10$ binary variables and $T = 20$ time steps. We're also taking this chance to show an alternative way to generate random numbers directly with **numpy**\n"
   ]
  },
  {
   "cell_type": "code",
   "execution_count": 4,
   "metadata": {},
   "outputs": [],
   "source": [
    "n = 10; T = 20;\n",
    "\n",
    "data = [np.random.randint(2, size=n) for i in range(T)]"
   ]
  },
  {
   "cell_type": "markdown",
   "metadata": {},
   "source": [
    "The main function used to visualize our time series is **imshow**, a very versatile function from **matplotlib.pyplot** used to visualize an image starting from its pixel list. Most of the options you see in the following code are just meant to constraint the output to a 1-bit image."
   ]
  },
  {
   "cell_type": "code",
   "execution_count": 5,
   "metadata": {},
   "outputs": [
    {
     "data": {
      "image/png": "[encoded data removed]",
      "text/plain": [
       "<Figure size 1440x576 with 1 Axes>"
      ]
     },
     "metadata": {
      "needs_background": "light"
     },
     "output_type": "display_data"
    }
   ],
   "source": [
    "fig = plt.figure(figsize=(20,8))\n",
    "ax = fig.add_subplot(111);\n",
    "ax.imshow(data,cmap='Greys',interpolation='nearest');\n",
    "ax.grid(True, linestyle=\"-\", color='gray');\n",
    "ax.set_xticks(np.arange(0.5, len(data[0]), 1));\n",
    "ax.set_yticks(np.arange(0.5, len(data), 1));\n",
    "ax.set_xticklabels(np.arange(1, 1+len(data[0]), 1));\n",
    "ax.set_yticklabels(np.arange(1, 1+len(data), 1));\n",
    "ax.xaxis.tick_top() # to place labes on top\n",
    "plt.ylabel('time')\n",
    "plt.show()"
   ]
  },
  {
   "cell_type": "markdown",
   "metadata": {},
   "source": [
    "For additional options, you can check the online documentation of **imshow** at\n",
    "\n",
    "https://matplotlib.org/stable/api/_as_gen/matplotlib.pyplot.imshow.html"
   ]
  },
  {
   "cell_type": "markdown",
   "metadata": {},
   "source": [
    "Unless explicitly stated, this is the default way the dynamics of ECAs and GRNs is visualized in scientific publications."
   ]
  },
  {
   "cell_type": "markdown",
   "metadata": {},
   "source": [
    "In the spefific case of 2-dimensional ECAs with square lattices, you can still use this code. But now both axis represent space dimensions. In that case, the usual practice consists in visualizing the dynamics through an animation, just like we did in the previous notebook.\n",
    "\n",
    "A famous example of 2D ECA with a square lattice is Conway's *Game of Life*: \n",
    "\n",
    "- Gardner, Martin (October 1970). *The fantastic combinations of John Conway's new solitaire game 'life'*. Mathematical Games. Scientific American. Vol. 223 no. 4. pp. 120–123. doi:10.1038/scientificamerican1070-120. JSTOR 24927642.\n",
    "\n",
    "There are many user-friendly online applets of this ECA, for example \n",
    "\n",
    "https://www.compadre.org/osp/EJSS/3577/12.htm\n",
    "\n",
    "As a facultative excercise, you could try to write your own code to implement the rules of Conway's game as described in the cited article, and visualize a sample dynamics."
   ]
  }
 ],
 "metadata": {
  "kernelspec": {
   "display_name": "Python 2",
   "language": "python",
   "name": "python2"
  },
  "language_info": {
   "codemirror_mode": {
    "name": "ipython",
    "version": 3
   },
   "file_extension": ".py",
   "mimetype": "text/x-python",
   "name": "python",
   "nbconvert_exporter": "python",
   "pygments_lexer": "ipython3",
   "version": "3.9.5"
  }
 },
 "nbformat": 4,
 "nbformat_minor": 1
}
