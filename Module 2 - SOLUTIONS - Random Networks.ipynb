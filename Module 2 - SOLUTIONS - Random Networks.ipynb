{
 "cells": [
  {
   "cell_type": "markdown",
   "id": "4ebebf9d",
   "metadata": {},
   "source": [
    "# MODULE 2 - SOLUTIONS - RANDOM NETWORKS\n",
    "\n",
    "Enrico Borriello, CAS 522 Dynamical Systems, ASU Fall 2021"
   ]
  },
  {
   "cell_type": "markdown",
   "id": "2c6f548c",
   "metadata": {},
   "source": [
    "# Libraries"
   ]
  },
  {
   "cell_type": "code",
   "execution_count": 1,
   "id": "d2c63f32",
   "metadata": {},
   "outputs": [],
   "source": [
    "import numpy as np\n",
    "import random as rn\n",
    "from pyvis.network import Network"
   ]
  },
  {
   "cell_type": "markdown",
   "id": "26fb4fcc",
   "metadata": {},
   "source": [
    "# QUESTION 1\n",
    "Define a python function that generates the adjacency matrix of a random (Erdos-Renyi) graph with $N$ nodes and probability $p$."
   ]
  },
  {
   "cell_type": "markdown",
   "id": "745cf229",
   "metadata": {},
   "source": [
    "### Solution"
   ]
  },
  {
   "cell_type": "code",
   "execution_count": 7,
   "id": "8cf02586",
   "metadata": {},
   "outputs": [],
   "source": [
    "def ER_adj_matrix(N,p):\n",
    "    A = np.zeros((N,N), dtype=int)\n",
    "    for i in range(N):\n",
    "        for j in range(i):\n",
    "            if rn.random() < p:\n",
    "                A[i][j] = 1\n",
    "                A[j][i] = 1\n",
    "    return A"
   ]
  },
  {
   "cell_type": "markdown",
   "id": "732a1aff",
   "metadata": {},
   "source": [
    "### Comments"
   ]
  },
  {
   "cell_type": "markdown",
   "id": "3a717c45",
   "metadata": {},
   "source": [
    "We don't need to perform any mirroring, as we can just assign A[ j ][ i ] at the same time we assign A[ i ][ j ].\n",
    "Also notice that 'range(N)' doesn't include $N$. This by itself guarantees all zeros along the diagonal of the matrix, \n",
    "as we expect in an Erdos-Renyi network, where self-loops are not an option. "
   ]
  },
  {
   "cell_type": "markdown",
   "id": "67b51168",
   "metadata": {},
   "source": [
    "## QUESTION 2\n",
    "\n",
    "Define a python function that calculates the average clustering coefficient $C$ of a random network with adjacency matrix $A$ as defined in the previous question. Test your function by changing the inputs $N$ and $p$. Can you verify that your function produces the intended results?"
   ]
  },
  {
   "cell_type": "markdown",
   "id": "2331eea1",
   "metadata": {},
   "source": [
    "### Solution"
   ]
  },
  {
   "cell_type": "code",
   "execution_count": 17,
   "id": "0885a604",
   "metadata": {},
   "outputs": [],
   "source": [
    "def cl_coeff (adj_matrix,node_index):   \n",
    "    A = adj_matrix\n",
    "    i = node_index\n",
    "    N = len(adj_matrix)\n",
    "    k = sum(A[i])\n",
    "    E2 = 0\n",
    "    for j1 in range(N):\n",
    "        for j2 in range(N):\n",
    "            if A[i,j1] == 1 and A[i,j2] == 1 and A[j1,j2] == 1:\n",
    "                E2 = E2+1 \n",
    "    if E2 == 0:\n",
    "        C = 0\n",
    "    else:\n",
    "        C = E2/k/(k-1)\n",
    "    return C"
   ]
  },
  {
   "cell_type": "code",
   "execution_count": 15,
   "id": "1aee753d",
   "metadata": {},
   "outputs": [],
   "source": [
    "def avg_cl_coeff(adj_matrix):\n",
    "    return np.mean([cl_coeff (adj_matrix,i) for i in range(len(adj_matrix))])"
   ]
  },
  {
   "cell_type": "markdown",
   "id": "75bd4c51",
   "metadata": {},
   "source": [
    "### Comments"
   ]
  },
  {
   "cell_type": "markdown",
   "id": "2fc1ff70",
   "metadata": {},
   "source": [
    "The final result is achieved in two steps. In the first step, we write a function that calculates the clustering coefficient $C_i$ of an individual node $i$. A simpler function is then calculating the average $C$ of the set $\\{C_i\\}$ for every node $i$ in the network.\n",
    "\n",
    "The first lines of the code"
   ]
  },
  {
   "cell_type": "raw",
   "id": "02fd286d",
   "metadata": {},
   "source": [
    "A = adj_matrix\n",
    "i = node_index\n",
    "N = len(adj_matrix)"
   ]
  },
  {
   "cell_type": "markdown",
   "id": "e42c3851",
   "metadata": {},
   "source": [
    "are just introducing shorter labels for the inputs and recurrent parameters. (It's good coding practice to choose very explicit names for the inputs of a function.)\n",
    "\n",
    "We then calculate the **degree** $k_i$ of the node we're considering:"
   ]
  },
  {
   "cell_type": "raw",
   "id": "4a1d2e1c",
   "metadata": {},
   "source": [
    "k = sum(A[i])"
   ]
  },
  {
   "cell_type": "markdown",
   "id": "bf2c1f3b",
   "metadata": {},
   "source": [
    "Because the degree of node $i$ is just the number of 1s in the i-th row of $A$.\n",
    "\n",
    "We now need to calculate $E_i$, i.e. the number of edges among nodes connected to node $i$. The clustering coefficient of node $i$ will then be\n",
    "\n",
    "$$ C_i = \\frac{2E_i}{k_i(k_i-1)} .$$\n",
    "\n",
    "These edges are entries of $A$. We just need a simple way to select and count them. Given two running indices $j_1$ and $j_2$, we count A[ j1 ][ j2 ] if\n",
    "\n",
    "1) $i$ is connected to $j_1$\n",
    "\n",
    "2) $i$ is connected to $j_2$\n",
    "\n",
    "3) j1 is connected to $j_2$\n",
    "\n",
    "Namely, if \n",
    "\n",
    "A[ i ][ j1 ] = A[ i ][ j2 ] = A[ j1 ][ j2 ] = 1:"
   ]
  },
  {
   "cell_type": "raw",
   "id": "cad0911d",
   "metadata": {},
   "source": [
    "E2 = 0\n",
    "    for j1 in range(N):\n",
    "        for j2 in range(N):\n",
    "            if A[i,j1] == 1 and A[i,j2] == 1 and A[j1,j2] == 1:\n",
    "                E2 = E2+1"
   ]
  },
  {
   "cell_type": "markdown",
   "id": "e869f63c",
   "metadata": {},
   "source": [
    "The code is shortened by the use of the **and** Boolean operator. But this lenghtier version would also work:"
   ]
  },
  {
   "cell_type": "raw",
   "id": "613c5230",
   "metadata": {},
   "source": [
    "E2 = 0\n",
    "    for j1 in range(N):\n",
    "        for j2 in range(N):\n",
    "            if A[i,j1] == 1:\n",
    "                if A[i,j2] == 1:\n",
    "                    if: A[j1,j2] == 1:\n",
    "                        E2 = E2+1"
   ]
  },
  {
   "cell_type": "markdown",
   "id": "852720fa",
   "metadata": {},
   "source": [
    "Notice that the number of edges we're counting is labeled E2. The reason is that this simple scan is exactly double-counting the right number: We count both A[ i ][ j ] and A[ j ][ i ], but these two entries correspond to the same edge. This is not an issue. E2 will just be the entire numerator in our formula for $C_i$.\n",
    "\n",
    "We could now just output the result as C = E2/k/(k-1), but we would risk to introduce a bug. Whenever $k_i = 1$, $C_i=0$, but the previous formula would try to divide zero by zero. The last if/else statement in the code just prevents this from happening."
   ]
  },
  {
   "cell_type": "markdown",
   "id": "c03c5b04",
   "metadata": {},
   "source": [
    "Finally, we're asked to check our result. We know the expectation value $\\langle C\\rangle=p$, and that $C$ is the average of $N$ terms, therefore it'll converge to $\\langle C\\rangle$ in the limit of large $N$."
   ]
  },
  {
   "cell_type": "code",
   "execution_count": 25,
   "id": "719805d7",
   "metadata": {},
   "outputs": [
    {
     "name": "stdout",
     "output_type": "stream",
     "text": [
      "<C> | C\n",
      "----------------------\n",
      "0.0 | 0.0\n",
      "0.1 | 0.0896058075911017\n",
      "0.2 | 0.20949232098452883\n",
      "0.3 | 0.3032600338188088\n",
      "0.4 | 0.4022150663282945\n",
      "0.5 | 0.49653626811520013\n",
      "0.6 | 0.60084633141232\n",
      "0.7 | 0.7021300988761868\n",
      "0.8 | 0.7890523403418155\n",
      "0.9 | 0.8904459235923708\n",
      "1.0 | 1.0\n"
     ]
    }
   ],
   "source": [
    "N = 100\n",
    "print('<C>','|','C')\n",
    "print('----------------------')\n",
    "for i in range(11):\n",
    "    p = i/10\n",
    "    A = ER_adj_matrix(N,p)\n",
    "    print(p,'|',avg_cl_coeff(A))"
   ]
  },
  {
   "cell_type": "code",
   "execution_count": null,
   "id": "33fa61d0",
   "metadata": {},
   "outputs": [],
   "source": []
  }
 ],
 "metadata": {
  "kernelspec": {
   "display_name": "Python 3",
   "language": "python",
   "name": "python3"
  },
  "language_info": {
   "codemirror_mode": {
    "name": "ipython",
    "version": 3
   },
   "file_extension": ".py",
   "mimetype": "text/x-python",
   "name": "python",
   "nbconvert_exporter": "python",
   "pygments_lexer": "ipython3",
   "version": "3.9.5"
  }
 },
 "nbformat": 4,
 "nbformat_minor": 5
}
